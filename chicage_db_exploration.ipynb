{
 "cells": [
  {
   "cell_type": "markdown",
   "metadata": {},
   "source": [
    "# Store the datasets in database tables"
   ]
  },
  {
   "cell_type": "code",
   "execution_count": 2,
   "metadata": {
    "tags": []
   },
   "outputs": [],
   "source": [
    "import pandas as pd \n",
    "import csv, sqlite3"
   ]
  },
  {
   "cell_type": "code",
   "execution_count": 4,
   "metadata": {
    "tags": []
   },
   "outputs": [],
   "source": [
    "con = sqlite3.connect(\"FinalDB.db\")\n",
    "cur = con.cursor()"
   ]
  },
  {
   "cell_type": "code",
   "execution_count": 6,
   "metadata": {
    "tags": []
   },
   "outputs": [],
   "source": [
    "# Load the SQL magic module\n",
    "%load_ext sql"
   ]
  },
  {
   "cell_type": "code",
   "execution_count": 7,
   "metadata": {
    "tags": []
   },
   "outputs": [],
   "source": [
    "%sql sqlite:///FinalDB.db"
   ]
  },
  {
   "cell_type": "code",
   "execution_count": 10,
   "metadata": {
    "tags": []
   },
   "outputs": [],
   "source": [
    "# load the data available in the links above to dataframes\n",
    "# use these dataframes to load data on to the database `FinalDB.db` as required tables.\n",
    "\n",
    "df_census = pd.read_csv(\"https://cf-courses-data.s3.us.cloud-object-storage.appdomain.cloud/IBMDeveloperSkillsNetwork-DB0201EN-SkillsNetwork/labs/FinalModule_Coursera_V5/data/ChicagoCensusData.csv?utm_medium=Exinfluencer&utm_source=Exinfluencer&utm_content=000026UJ&utm_term=10006555&utm_id=NA-SkillsNetwork-Channel-SkillsNetworkCoursesIBMDeveloperSkillsNetworkDB0201ENSkillsNetwork20127838-2021-01-01\")\n",
    "\n",
    "df_public_schools = pd.read_csv(\"https://cf-courses-data.s3.us.cloud-object-storage.appdomain.cloud/IBMDeveloperSkillsNetwork-DB0201EN-SkillsNetwork/labs/FinalModule_Coursera_V5/data/ChicagoPublicSchools.csv?utm_medium=Exinfluencer&utm_source=Exinfluencer&utm_content=000026UJ&utm_term=10006555&utm_id=NA-SkillsNetwork-Channel-SkillsNetworkCoursesIBMDeveloperSkillsNetworkDB0201ENSkillsNetwork20127838-2021-01-01\") \n",
    "\n",
    "df_crime = pd.read_csv(\"https://cf-courses-data.s3.us.cloud-object-storage.appdomain.cloud/IBMDeveloperSkillsNetwork-DB0201EN-SkillsNetwork/labs/FinalModule_Coursera_V5/data/ChicagoCrimeData.csv?utm_medium=Exinfluencer&utm_source=Exinfluencer&utm_content=000026UJ&utm_term=10006555&utm_id=NA-SkillsNetwork-Channel-SkillsNetworkCoursesIBMDeveloperSkillsNetworkDB0201ENSkillsNetwork20127838-2021-01-01\")"
   ]
  },
  {
   "cell_type": "markdown",
   "metadata": {},
   "source": [
    "Establish a connection between SQL magic module and the database `FinalDB.db`\n"
   ]
  },
  {
   "cell_type": "code",
   "execution_count": 12,
   "metadata": {
    "tags": []
   },
   "outputs": [],
   "source": [
    "pd.set_option('display.max_columns', None)"
   ]
  },
  {
   "cell_type": "markdown",
   "metadata": {},
   "source": [
    "## On the Chicago Census Dataframe"
   ]
  },
  {
   "cell_type": "code",
   "execution_count": 14,
   "metadata": {
    "tags": []
   },
   "outputs": [
    {
     "name": "stdout",
     "output_type": "stream",
     "text": [
      "Index(['COMMUNITY_AREA_NUMBER', 'COMMUNITY_AREA_NAME',\n",
      "       'PERCENT_OF_HOUSING_CROWDED', 'PERCENT_HOUSEHOLDS_BELOW_POVERTY',\n",
      "       'PERCENT_AGED_16__UNEMPLOYED',\n",
      "       'PERCENT_AGED_25__WITHOUT_HIGH_SCHOOL_DIPLOMA',\n",
      "       'PERCENT_AGED_UNDER_18_OR_OVER_64', 'PER_CAPITA_INCOME',\n",
      "       'HARDSHIP_INDEX'],\n",
      "      dtype='object')\n"
     ]
    }
   ],
   "source": [
    "print(df_census.columns)"
   ]
  },
  {
   "cell_type": "code",
   "execution_count": 15,
   "metadata": {
    "tags": []
   },
   "outputs": [
    {
     "name": "stdout",
     "output_type": "stream",
     "text": [
      "COMMUNITY_AREA_NUMBER                           float64\n",
      "COMMUNITY_AREA_NAME                              object\n",
      "PERCENT_OF_HOUSING_CROWDED                      float64\n",
      "PERCENT_HOUSEHOLDS_BELOW_POVERTY                float64\n",
      "PERCENT_AGED_16__UNEMPLOYED                     float64\n",
      "PERCENT_AGED_25__WITHOUT_HIGH_SCHOOL_DIPLOMA    float64\n",
      "PERCENT_AGED_UNDER_18_OR_OVER_64                float64\n",
      "PER_CAPITA_INCOME                                 int64\n",
      "HARDSHIP_INDEX                                  float64\n",
      "dtype: object\n"
     ]
    }
   ],
   "source": [
    "print(df_census.dtypes)"
   ]
  },
  {
   "cell_type": "code",
   "execution_count": 16,
   "metadata": {
    "tags": []
   },
   "outputs": [
    {
     "data": {
      "text/html": [
       "<div>\n",
       "<style scoped>\n",
       "    .dataframe tbody tr th:only-of-type {\n",
       "        vertical-align: middle;\n",
       "    }\n",
       "\n",
       "    .dataframe tbody tr th {\n",
       "        vertical-align: top;\n",
       "    }\n",
       "\n",
       "    .dataframe thead th {\n",
       "        text-align: right;\n",
       "    }\n",
       "</style>\n",
       "<table border=\"1\" class=\"dataframe\">\n",
       "  <thead>\n",
       "    <tr style=\"text-align: right;\">\n",
       "      <th></th>\n",
       "      <th>COMMUNITY_AREA_NUMBER</th>\n",
       "      <th>COMMUNITY_AREA_NAME</th>\n",
       "      <th>PERCENT_OF_HOUSING_CROWDED</th>\n",
       "      <th>PERCENT_HOUSEHOLDS_BELOW_POVERTY</th>\n",
       "      <th>PERCENT_AGED_16__UNEMPLOYED</th>\n",
       "      <th>PERCENT_AGED_25__WITHOUT_HIGH_SCHOOL_DIPLOMA</th>\n",
       "      <th>PERCENT_AGED_UNDER_18_OR_OVER_64</th>\n",
       "      <th>PER_CAPITA_INCOME</th>\n",
       "      <th>HARDSHIP_INDEX</th>\n",
       "    </tr>\n",
       "  </thead>\n",
       "  <tbody>\n",
       "    <tr>\n",
       "      <th>0</th>\n",
       "      <td>1.0</td>\n",
       "      <td>Rogers Park</td>\n",
       "      <td>7.7</td>\n",
       "      <td>23.6</td>\n",
       "      <td>8.7</td>\n",
       "      <td>18.2</td>\n",
       "      <td>27.5</td>\n",
       "      <td>23939</td>\n",
       "      <td>39.0</td>\n",
       "    </tr>\n",
       "    <tr>\n",
       "      <th>1</th>\n",
       "      <td>2.0</td>\n",
       "      <td>West Ridge</td>\n",
       "      <td>7.8</td>\n",
       "      <td>17.2</td>\n",
       "      <td>8.8</td>\n",
       "      <td>20.8</td>\n",
       "      <td>38.5</td>\n",
       "      <td>23040</td>\n",
       "      <td>46.0</td>\n",
       "    </tr>\n",
       "    <tr>\n",
       "      <th>2</th>\n",
       "      <td>3.0</td>\n",
       "      <td>Uptown</td>\n",
       "      <td>3.8</td>\n",
       "      <td>24.0</td>\n",
       "      <td>8.9</td>\n",
       "      <td>11.8</td>\n",
       "      <td>22.2</td>\n",
       "      <td>35787</td>\n",
       "      <td>20.0</td>\n",
       "    </tr>\n",
       "    <tr>\n",
       "      <th>3</th>\n",
       "      <td>4.0</td>\n",
       "      <td>Lincoln Square</td>\n",
       "      <td>3.4</td>\n",
       "      <td>10.9</td>\n",
       "      <td>8.2</td>\n",
       "      <td>13.4</td>\n",
       "      <td>25.5</td>\n",
       "      <td>37524</td>\n",
       "      <td>17.0</td>\n",
       "    </tr>\n",
       "    <tr>\n",
       "      <th>4</th>\n",
       "      <td>5.0</td>\n",
       "      <td>North Center</td>\n",
       "      <td>0.3</td>\n",
       "      <td>7.5</td>\n",
       "      <td>5.2</td>\n",
       "      <td>4.5</td>\n",
       "      <td>26.2</td>\n",
       "      <td>57123</td>\n",
       "      <td>6.0</td>\n",
       "    </tr>\n",
       "  </tbody>\n",
       "</table>\n",
       "</div>"
      ],
      "text/plain": [
       "   COMMUNITY_AREA_NUMBER COMMUNITY_AREA_NAME  PERCENT_OF_HOUSING_CROWDED  \\\n",
       "0                    1.0         Rogers Park                         7.7   \n",
       "1                    2.0          West Ridge                         7.8   \n",
       "2                    3.0              Uptown                         3.8   \n",
       "3                    4.0      Lincoln Square                         3.4   \n",
       "4                    5.0        North Center                         0.3   \n",
       "\n",
       "   PERCENT_HOUSEHOLDS_BELOW_POVERTY  PERCENT_AGED_16__UNEMPLOYED  \\\n",
       "0                              23.6                          8.7   \n",
       "1                              17.2                          8.8   \n",
       "2                              24.0                          8.9   \n",
       "3                              10.9                          8.2   \n",
       "4                               7.5                          5.2   \n",
       "\n",
       "   PERCENT_AGED_25__WITHOUT_HIGH_SCHOOL_DIPLOMA  \\\n",
       "0                                          18.2   \n",
       "1                                          20.8   \n",
       "2                                          11.8   \n",
       "3                                          13.4   \n",
       "4                                           4.5   \n",
       "\n",
       "   PERCENT_AGED_UNDER_18_OR_OVER_64  PER_CAPITA_INCOME  HARDSHIP_INDEX  \n",
       "0                              27.5              23939            39.0  \n",
       "1                              38.5              23040            46.0  \n",
       "2                              22.2              35787            20.0  \n",
       "3                              25.5              37524            17.0  \n",
       "4                              26.2              57123             6.0  "
      ]
     },
     "execution_count": 16,
     "metadata": {},
     "output_type": "execute_result"
    }
   ],
   "source": [
    "df_census.head()"
   ]
  },
  {
   "cell_type": "markdown",
   "metadata": {},
   "source": [
    "## On the Chicago Public School Dataframe"
   ]
  },
  {
   "cell_type": "code",
   "execution_count": 18,
   "metadata": {
    "tags": []
   },
   "outputs": [
    {
     "data": {
      "text/plain": [
       "Index(['School_ID', 'NAME_OF_SCHOOL', 'Elementary, Middle, or High School',\n",
       "       'Street_Address', 'City', 'State', 'ZIP_Code', 'Phone_Number', 'Link',\n",
       "       'Network_Manager', 'Collaborative_Name',\n",
       "       'Adequate_Yearly_Progress_Made_', 'Track_Schedule',\n",
       "       'CPS_Performance_Policy_Status', 'CPS_Performance_Policy_Level',\n",
       "       'HEALTHY_SCHOOL_CERTIFIED', 'Safety_Icon', 'SAFETY_SCORE',\n",
       "       'Family_Involvement_Icon', 'Family_Involvement_Score',\n",
       "       'Environment_Icon', 'Environment_Score', 'Instruction_Icon',\n",
       "       'Instruction_Score', 'Leaders_Icon', 'Leaders_Score', 'Teachers_Icon',\n",
       "       'Teachers_Score', 'Parent_Engagement_Icon', 'Parent_Engagement_Score',\n",
       "       'Parent_Environment_Icon', 'Parent_Environment_Score',\n",
       "       'AVERAGE_STUDENT_ATTENDANCE', 'Rate_of_Misconducts__per_100_students_',\n",
       "       'Average_Teacher_Attendance',\n",
       "       'Individualized_Education_Program_Compliance_Rate', 'Pk_2_Literacy__',\n",
       "       'Pk_2_Math__', 'Gr3_5_Grade_Level_Math__', 'Gr3_5_Grade_Level_Read__',\n",
       "       'Gr3_5_Keep_Pace_Read__', 'Gr3_5_Keep_Pace_Math__',\n",
       "       'Gr6_8_Grade_Level_Math__', 'Gr6_8_Grade_Level_Read__',\n",
       "       'Gr6_8_Keep_Pace_Math_', 'Gr6_8_Keep_Pace_Read__',\n",
       "       'Gr_8_Explore_Math__', 'Gr_8_Explore_Read__', 'ISAT_Exceeding_Math__',\n",
       "       'ISAT_Exceeding_Reading__', 'ISAT_Value_Add_Math',\n",
       "       'ISAT_Value_Add_Read', 'ISAT_Value_Add_Color_Math',\n",
       "       'ISAT_Value_Add_Color_Read', 'Students_Taking__Algebra__',\n",
       "       'Students_Passing__Algebra__', '9th Grade EXPLORE (2009)',\n",
       "       '9th Grade EXPLORE (2010)', '10th Grade PLAN (2009)',\n",
       "       '10th Grade PLAN (2010)', 'Net_Change_EXPLORE_and_PLAN',\n",
       "       '11th Grade Average ACT (2011)', 'Net_Change_PLAN_and_ACT',\n",
       "       'College_Eligibility__', 'Graduation_Rate__',\n",
       "       'College_Enrollment_Rate__', 'COLLEGE_ENROLLMENT',\n",
       "       'General_Services_Route', 'Freshman_on_Track_Rate__', 'X_COORDINATE',\n",
       "       'Y_COORDINATE', 'Latitude', 'Longitude', 'COMMUNITY_AREA_NUMBER',\n",
       "       'COMMUNITY_AREA_NAME', 'Ward', 'Police_District', 'Location'],\n",
       "      dtype='object')"
      ]
     },
     "execution_count": 18,
     "metadata": {},
     "output_type": "execute_result"
    }
   ],
   "source": [
    "df_public_schools.columns"
   ]
  },
  {
   "cell_type": "code",
   "execution_count": 19,
   "metadata": {
    "tags": []
   },
   "outputs": [
    {
     "data": {
      "text/plain": [
       "School_ID                              int64\n",
       "NAME_OF_SCHOOL                        object\n",
       "Elementary, Middle, or High School    object\n",
       "Street_Address                        object\n",
       "City                                  object\n",
       "                                       ...  \n",
       "COMMUNITY_AREA_NUMBER                  int64\n",
       "COMMUNITY_AREA_NAME                   object\n",
       "Ward                                   int64\n",
       "Police_District                        int64\n",
       "Location                              object\n",
       "Length: 78, dtype: object"
      ]
     },
     "execution_count": 19,
     "metadata": {},
     "output_type": "execute_result"
    }
   ],
   "source": [
    "df_public_schools.dtypes"
   ]
  },
  {
   "cell_type": "code",
   "execution_count": 20,
   "metadata": {
    "tags": []
   },
   "outputs": [
    {
     "data": {
      "text/html": [
       "<div>\n",
       "<style scoped>\n",
       "    .dataframe tbody tr th:only-of-type {\n",
       "        vertical-align: middle;\n",
       "    }\n",
       "\n",
       "    .dataframe tbody tr th {\n",
       "        vertical-align: top;\n",
       "    }\n",
       "\n",
       "    .dataframe thead th {\n",
       "        text-align: right;\n",
       "    }\n",
       "</style>\n",
       "<table border=\"1\" class=\"dataframe\">\n",
       "  <thead>\n",
       "    <tr style=\"text-align: right;\">\n",
       "      <th></th>\n",
       "      <th>School_ID</th>\n",
       "      <th>NAME_OF_SCHOOL</th>\n",
       "      <th>Elementary, Middle, or High School</th>\n",
       "      <th>Street_Address</th>\n",
       "      <th>City</th>\n",
       "      <th>State</th>\n",
       "      <th>ZIP_Code</th>\n",
       "      <th>Phone_Number</th>\n",
       "      <th>Link</th>\n",
       "      <th>Network_Manager</th>\n",
       "      <th>Collaborative_Name</th>\n",
       "      <th>Adequate_Yearly_Progress_Made_</th>\n",
       "      <th>Track_Schedule</th>\n",
       "      <th>CPS_Performance_Policy_Status</th>\n",
       "      <th>CPS_Performance_Policy_Level</th>\n",
       "      <th>HEALTHY_SCHOOL_CERTIFIED</th>\n",
       "      <th>Safety_Icon</th>\n",
       "      <th>SAFETY_SCORE</th>\n",
       "      <th>Family_Involvement_Icon</th>\n",
       "      <th>Family_Involvement_Score</th>\n",
       "      <th>Environment_Icon</th>\n",
       "      <th>Environment_Score</th>\n",
       "      <th>Instruction_Icon</th>\n",
       "      <th>Instruction_Score</th>\n",
       "      <th>Leaders_Icon</th>\n",
       "      <th>Leaders_Score</th>\n",
       "      <th>Teachers_Icon</th>\n",
       "      <th>Teachers_Score</th>\n",
       "      <th>Parent_Engagement_Icon</th>\n",
       "      <th>Parent_Engagement_Score</th>\n",
       "      <th>Parent_Environment_Icon</th>\n",
       "      <th>Parent_Environment_Score</th>\n",
       "      <th>AVERAGE_STUDENT_ATTENDANCE</th>\n",
       "      <th>Rate_of_Misconducts__per_100_students_</th>\n",
       "      <th>Average_Teacher_Attendance</th>\n",
       "      <th>Individualized_Education_Program_Compliance_Rate</th>\n",
       "      <th>Pk_2_Literacy__</th>\n",
       "      <th>Pk_2_Math__</th>\n",
       "      <th>Gr3_5_Grade_Level_Math__</th>\n",
       "      <th>Gr3_5_Grade_Level_Read__</th>\n",
       "      <th>Gr3_5_Keep_Pace_Read__</th>\n",
       "      <th>Gr3_5_Keep_Pace_Math__</th>\n",
       "      <th>Gr6_8_Grade_Level_Math__</th>\n",
       "      <th>Gr6_8_Grade_Level_Read__</th>\n",
       "      <th>Gr6_8_Keep_Pace_Math_</th>\n",
       "      <th>Gr6_8_Keep_Pace_Read__</th>\n",
       "      <th>Gr_8_Explore_Math__</th>\n",
       "      <th>Gr_8_Explore_Read__</th>\n",
       "      <th>ISAT_Exceeding_Math__</th>\n",
       "      <th>ISAT_Exceeding_Reading__</th>\n",
       "      <th>ISAT_Value_Add_Math</th>\n",
       "      <th>ISAT_Value_Add_Read</th>\n",
       "      <th>ISAT_Value_Add_Color_Math</th>\n",
       "      <th>ISAT_Value_Add_Color_Read</th>\n",
       "      <th>Students_Taking__Algebra__</th>\n",
       "      <th>Students_Passing__Algebra__</th>\n",
       "      <th>9th Grade EXPLORE (2009)</th>\n",
       "      <th>9th Grade EXPLORE (2010)</th>\n",
       "      <th>10th Grade PLAN (2009)</th>\n",
       "      <th>10th Grade PLAN (2010)</th>\n",
       "      <th>Net_Change_EXPLORE_and_PLAN</th>\n",
       "      <th>11th Grade Average ACT (2011)</th>\n",
       "      <th>Net_Change_PLAN_and_ACT</th>\n",
       "      <th>College_Eligibility__</th>\n",
       "      <th>Graduation_Rate__</th>\n",
       "      <th>College_Enrollment_Rate__</th>\n",
       "      <th>COLLEGE_ENROLLMENT</th>\n",
       "      <th>General_Services_Route</th>\n",
       "      <th>Freshman_on_Track_Rate__</th>\n",
       "      <th>X_COORDINATE</th>\n",
       "      <th>Y_COORDINATE</th>\n",
       "      <th>Latitude</th>\n",
       "      <th>Longitude</th>\n",
       "      <th>COMMUNITY_AREA_NUMBER</th>\n",
       "      <th>COMMUNITY_AREA_NAME</th>\n",
       "      <th>Ward</th>\n",
       "      <th>Police_District</th>\n",
       "      <th>Location</th>\n",
       "    </tr>\n",
       "  </thead>\n",
       "  <tbody>\n",
       "    <tr>\n",
       "      <th>0</th>\n",
       "      <td>610038</td>\n",
       "      <td>Abraham Lincoln Elementary School</td>\n",
       "      <td>ES</td>\n",
       "      <td>615 W Kemper Pl</td>\n",
       "      <td>Chicago</td>\n",
       "      <td>IL</td>\n",
       "      <td>60614</td>\n",
       "      <td>(773) 534-5720</td>\n",
       "      <td>http://schoolreports.cps.edu/SchoolProgressRep...</td>\n",
       "      <td>Fullerton Elementary Network</td>\n",
       "      <td>NORTH-NORTHWEST SIDE COLLABORATIVE</td>\n",
       "      <td>No</td>\n",
       "      <td>Standard</td>\n",
       "      <td>Not on Probation</td>\n",
       "      <td>Level 1</td>\n",
       "      <td>Yes</td>\n",
       "      <td>Very Strong</td>\n",
       "      <td>99.0</td>\n",
       "      <td>Very Strong</td>\n",
       "      <td>99</td>\n",
       "      <td>Strong</td>\n",
       "      <td>74.0</td>\n",
       "      <td>Strong</td>\n",
       "      <td>66.0</td>\n",
       "      <td>Weak</td>\n",
       "      <td>65</td>\n",
       "      <td>Strong</td>\n",
       "      <td>70</td>\n",
       "      <td>Strong</td>\n",
       "      <td>56</td>\n",
       "      <td>Average</td>\n",
       "      <td>47</td>\n",
       "      <td>96.00%</td>\n",
       "      <td>2.0</td>\n",
       "      <td>96.40%</td>\n",
       "      <td>95.80%</td>\n",
       "      <td>80.1</td>\n",
       "      <td>43.3</td>\n",
       "      <td>89.6</td>\n",
       "      <td>84.9</td>\n",
       "      <td>60.7</td>\n",
       "      <td>62.6</td>\n",
       "      <td>81.9</td>\n",
       "      <td>85.2</td>\n",
       "      <td>52</td>\n",
       "      <td>62.4</td>\n",
       "      <td>66.3</td>\n",
       "      <td>77.9</td>\n",
       "      <td>69.7</td>\n",
       "      <td>64.4</td>\n",
       "      <td>0.2</td>\n",
       "      <td>0.9</td>\n",
       "      <td>Yellow</td>\n",
       "      <td>Green</td>\n",
       "      <td>67.1</td>\n",
       "      <td>54.5</td>\n",
       "      <td>NDA</td>\n",
       "      <td>NDA</td>\n",
       "      <td>NDA</td>\n",
       "      <td>NDA</td>\n",
       "      <td>NDA</td>\n",
       "      <td>NDA</td>\n",
       "      <td>NDA</td>\n",
       "      <td>NDA</td>\n",
       "      <td>NDA</td>\n",
       "      <td>NDA</td>\n",
       "      <td>813</td>\n",
       "      <td>33</td>\n",
       "      <td>NDA</td>\n",
       "      <td>1171699.458</td>\n",
       "      <td>1915829.428</td>\n",
       "      <td>41.924497</td>\n",
       "      <td>-87.644522</td>\n",
       "      <td>7</td>\n",
       "      <td>LINCOLN PARK</td>\n",
       "      <td>43</td>\n",
       "      <td>18</td>\n",
       "      <td>(41.92449696, -87.64452163)</td>\n",
       "    </tr>\n",
       "    <tr>\n",
       "      <th>1</th>\n",
       "      <td>610281</td>\n",
       "      <td>Adam Clayton Powell Paideia Community Academy ...</td>\n",
       "      <td>ES</td>\n",
       "      <td>7511 S South Shore Dr</td>\n",
       "      <td>Chicago</td>\n",
       "      <td>IL</td>\n",
       "      <td>60649</td>\n",
       "      <td>(773) 535-6650</td>\n",
       "      <td>http://schoolreports.cps.edu/SchoolProgressRep...</td>\n",
       "      <td>Skyway Elementary Network</td>\n",
       "      <td>SOUTH SIDE COLLABORATIVE</td>\n",
       "      <td>No</td>\n",
       "      <td>Track_E</td>\n",
       "      <td>Not on Probation</td>\n",
       "      <td>Level 1</td>\n",
       "      <td>No</td>\n",
       "      <td>Average</td>\n",
       "      <td>54.0</td>\n",
       "      <td>Strong</td>\n",
       "      <td>66</td>\n",
       "      <td>Strong</td>\n",
       "      <td>74.0</td>\n",
       "      <td>Very Strong</td>\n",
       "      <td>84.0</td>\n",
       "      <td>Weak</td>\n",
       "      <td>63</td>\n",
       "      <td>Strong</td>\n",
       "      <td>76</td>\n",
       "      <td>Weak</td>\n",
       "      <td>46</td>\n",
       "      <td>Average</td>\n",
       "      <td>50</td>\n",
       "      <td>95.60%</td>\n",
       "      <td>15.7</td>\n",
       "      <td>95.30%</td>\n",
       "      <td>100.00%</td>\n",
       "      <td>62.4</td>\n",
       "      <td>51.7</td>\n",
       "      <td>21.9</td>\n",
       "      <td>15.1</td>\n",
       "      <td>29</td>\n",
       "      <td>42.8</td>\n",
       "      <td>38.5</td>\n",
       "      <td>27.4</td>\n",
       "      <td>44.8</td>\n",
       "      <td>42.7</td>\n",
       "      <td>14.1</td>\n",
       "      <td>34.4</td>\n",
       "      <td>16.8</td>\n",
       "      <td>16.5</td>\n",
       "      <td>0.7</td>\n",
       "      <td>1.4</td>\n",
       "      <td>Green</td>\n",
       "      <td>Green</td>\n",
       "      <td>17.2</td>\n",
       "      <td>27.3</td>\n",
       "      <td>NDA</td>\n",
       "      <td>NDA</td>\n",
       "      <td>NDA</td>\n",
       "      <td>NDA</td>\n",
       "      <td>NDA</td>\n",
       "      <td>NDA</td>\n",
       "      <td>NDA</td>\n",
       "      <td>NDA</td>\n",
       "      <td>NDA</td>\n",
       "      <td>NDA</td>\n",
       "      <td>521</td>\n",
       "      <td>46</td>\n",
       "      <td>NDA</td>\n",
       "      <td>1196129.985</td>\n",
       "      <td>1856209.466</td>\n",
       "      <td>41.760324</td>\n",
       "      <td>-87.556736</td>\n",
       "      <td>43</td>\n",
       "      <td>SOUTH SHORE</td>\n",
       "      <td>7</td>\n",
       "      <td>4</td>\n",
       "      <td>(41.76032435, -87.55673627)</td>\n",
       "    </tr>\n",
       "    <tr>\n",
       "      <th>2</th>\n",
       "      <td>610185</td>\n",
       "      <td>Adlai E Stevenson Elementary School</td>\n",
       "      <td>ES</td>\n",
       "      <td>8010 S Kostner Ave</td>\n",
       "      <td>Chicago</td>\n",
       "      <td>IL</td>\n",
       "      <td>60652</td>\n",
       "      <td>(773) 535-2280</td>\n",
       "      <td>http://schoolreports.cps.edu/SchoolProgressRep...</td>\n",
       "      <td>Midway Elementary Network</td>\n",
       "      <td>SOUTHWEST SIDE COLLABORATIVE</td>\n",
       "      <td>No</td>\n",
       "      <td>Standard</td>\n",
       "      <td>Not on Probation</td>\n",
       "      <td>Level 2</td>\n",
       "      <td>No</td>\n",
       "      <td>Strong</td>\n",
       "      <td>61.0</td>\n",
       "      <td>NDA</td>\n",
       "      <td>NDA</td>\n",
       "      <td>Average</td>\n",
       "      <td>50.0</td>\n",
       "      <td>Weak</td>\n",
       "      <td>36.0</td>\n",
       "      <td>Weak</td>\n",
       "      <td>NDA</td>\n",
       "      <td>NDA</td>\n",
       "      <td>NDA</td>\n",
       "      <td>Average</td>\n",
       "      <td>47</td>\n",
       "      <td>Weak</td>\n",
       "      <td>41</td>\n",
       "      <td>95.70%</td>\n",
       "      <td>2.3</td>\n",
       "      <td>94.70%</td>\n",
       "      <td>98.30%</td>\n",
       "      <td>53.7</td>\n",
       "      <td>26.6</td>\n",
       "      <td>38.3</td>\n",
       "      <td>34.7</td>\n",
       "      <td>43.7</td>\n",
       "      <td>57.3</td>\n",
       "      <td>48.8</td>\n",
       "      <td>39.2</td>\n",
       "      <td>46.8</td>\n",
       "      <td>44</td>\n",
       "      <td>7.5</td>\n",
       "      <td>21.9</td>\n",
       "      <td>18.3</td>\n",
       "      <td>15.5</td>\n",
       "      <td>-0.9</td>\n",
       "      <td>-1.0</td>\n",
       "      <td>Red</td>\n",
       "      <td>Red</td>\n",
       "      <td>NDA</td>\n",
       "      <td>NDA</td>\n",
       "      <td>NDA</td>\n",
       "      <td>NDA</td>\n",
       "      <td>NDA</td>\n",
       "      <td>NDA</td>\n",
       "      <td>NDA</td>\n",
       "      <td>NDA</td>\n",
       "      <td>NDA</td>\n",
       "      <td>NDA</td>\n",
       "      <td>NDA</td>\n",
       "      <td>NDA</td>\n",
       "      <td>1324</td>\n",
       "      <td>44</td>\n",
       "      <td>NDA</td>\n",
       "      <td>1148427.165</td>\n",
       "      <td>1851012.215</td>\n",
       "      <td>41.747111</td>\n",
       "      <td>-87.731702</td>\n",
       "      <td>70</td>\n",
       "      <td>ASHBURN</td>\n",
       "      <td>13</td>\n",
       "      <td>8</td>\n",
       "      <td>(41.74711093, -87.73170248)</td>\n",
       "    </tr>\n",
       "    <tr>\n",
       "      <th>3</th>\n",
       "      <td>609993</td>\n",
       "      <td>Agustin Lara Elementary Academy</td>\n",
       "      <td>ES</td>\n",
       "      <td>4619 S Wolcott Ave</td>\n",
       "      <td>Chicago</td>\n",
       "      <td>IL</td>\n",
       "      <td>60609</td>\n",
       "      <td>(773) 535-4389</td>\n",
       "      <td>http://schoolreports.cps.edu/SchoolProgressRep...</td>\n",
       "      <td>Pershing Elementary Network</td>\n",
       "      <td>SOUTHWEST SIDE COLLABORATIVE</td>\n",
       "      <td>No</td>\n",
       "      <td>Track_E</td>\n",
       "      <td>Not on Probation</td>\n",
       "      <td>Level 1</td>\n",
       "      <td>No</td>\n",
       "      <td>Average</td>\n",
       "      <td>56.0</td>\n",
       "      <td>Average</td>\n",
       "      <td>44</td>\n",
       "      <td>Average</td>\n",
       "      <td>45.0</td>\n",
       "      <td>Weak</td>\n",
       "      <td>37.0</td>\n",
       "      <td>Weak</td>\n",
       "      <td>65</td>\n",
       "      <td>Average</td>\n",
       "      <td>48</td>\n",
       "      <td>Average</td>\n",
       "      <td>53</td>\n",
       "      <td>Strong</td>\n",
       "      <td>58</td>\n",
       "      <td>95.50%</td>\n",
       "      <td>10.4</td>\n",
       "      <td>95.80%</td>\n",
       "      <td>100.00%</td>\n",
       "      <td>76.9</td>\n",
       "      <td>NDA</td>\n",
       "      <td>26</td>\n",
       "      <td>24.7</td>\n",
       "      <td>61.8</td>\n",
       "      <td>49.7</td>\n",
       "      <td>39.2</td>\n",
       "      <td>27.2</td>\n",
       "      <td>69.7</td>\n",
       "      <td>60.6</td>\n",
       "      <td>9.1</td>\n",
       "      <td>18.2</td>\n",
       "      <td>11.1</td>\n",
       "      <td>9.6</td>\n",
       "      <td>0.9</td>\n",
       "      <td>2.4</td>\n",
       "      <td>Green</td>\n",
       "      <td>Green</td>\n",
       "      <td>42.9</td>\n",
       "      <td>25</td>\n",
       "      <td>NDA</td>\n",
       "      <td>NDA</td>\n",
       "      <td>NDA</td>\n",
       "      <td>NDA</td>\n",
       "      <td>NDA</td>\n",
       "      <td>NDA</td>\n",
       "      <td>NDA</td>\n",
       "      <td>NDA</td>\n",
       "      <td>NDA</td>\n",
       "      <td>NDA</td>\n",
       "      <td>556</td>\n",
       "      <td>42</td>\n",
       "      <td>NDA</td>\n",
       "      <td>1164504.290</td>\n",
       "      <td>1873959.199</td>\n",
       "      <td>41.809757</td>\n",
       "      <td>-87.672145</td>\n",
       "      <td>61</td>\n",
       "      <td>NEW CITY</td>\n",
       "      <td>20</td>\n",
       "      <td>9</td>\n",
       "      <td>(41.8097569, -87.6721446)</td>\n",
       "    </tr>\n",
       "    <tr>\n",
       "      <th>4</th>\n",
       "      <td>610513</td>\n",
       "      <td>Air Force Academy High School</td>\n",
       "      <td>HS</td>\n",
       "      <td>3630 S Wells St</td>\n",
       "      <td>Chicago</td>\n",
       "      <td>IL</td>\n",
       "      <td>60609</td>\n",
       "      <td>(773) 535-1590</td>\n",
       "      <td>http://schoolreports.cps.edu/SchoolProgressRep...</td>\n",
       "      <td>Southwest Side High School Network</td>\n",
       "      <td>SOUTHWEST SIDE COLLABORATIVE</td>\n",
       "      <td>NDA</td>\n",
       "      <td>Standard</td>\n",
       "      <td>Not on Probation</td>\n",
       "      <td>Not Enough Data</td>\n",
       "      <td>Yes</td>\n",
       "      <td>Average</td>\n",
       "      <td>49.0</td>\n",
       "      <td>Strong</td>\n",
       "      <td>60</td>\n",
       "      <td>Strong</td>\n",
       "      <td>60.0</td>\n",
       "      <td>Average</td>\n",
       "      <td>55.0</td>\n",
       "      <td>Weak</td>\n",
       "      <td>45</td>\n",
       "      <td>Average</td>\n",
       "      <td>54</td>\n",
       "      <td>Average</td>\n",
       "      <td>53</td>\n",
       "      <td>Average</td>\n",
       "      <td>49</td>\n",
       "      <td>93.30%</td>\n",
       "      <td>15.6</td>\n",
       "      <td>96.90%</td>\n",
       "      <td>100.00%</td>\n",
       "      <td>NDA</td>\n",
       "      <td>NDA</td>\n",
       "      <td>NDA</td>\n",
       "      <td>NDA</td>\n",
       "      <td>NDA</td>\n",
       "      <td>NDA</td>\n",
       "      <td>NDA</td>\n",
       "      <td>NDA</td>\n",
       "      <td>NDA</td>\n",
       "      <td>NDA</td>\n",
       "      <td>NDA</td>\n",
       "      <td>NDA</td>\n",
       "      <td>NaN</td>\n",
       "      <td>NaN</td>\n",
       "      <td>NaN</td>\n",
       "      <td>NaN</td>\n",
       "      <td>NDA</td>\n",
       "      <td>NDA</td>\n",
       "      <td>NDA</td>\n",
       "      <td>NDA</td>\n",
       "      <td>14.6</td>\n",
       "      <td>14.8</td>\n",
       "      <td>NDA</td>\n",
       "      <td>16</td>\n",
       "      <td>1.4</td>\n",
       "      <td>NDA</td>\n",
       "      <td>NDA</td>\n",
       "      <td>NDA</td>\n",
       "      <td>NDA</td>\n",
       "      <td>NDA</td>\n",
       "      <td>302</td>\n",
       "      <td>40</td>\n",
       "      <td>91.8</td>\n",
       "      <td>1175177.622</td>\n",
       "      <td>1880745.126</td>\n",
       "      <td>41.828146</td>\n",
       "      <td>-87.632794</td>\n",
       "      <td>34</td>\n",
       "      <td>ARMOUR SQUARE</td>\n",
       "      <td>11</td>\n",
       "      <td>9</td>\n",
       "      <td>(41.82814609, -87.63279369)</td>\n",
       "    </tr>\n",
       "  </tbody>\n",
       "</table>\n",
       "</div>"
      ],
      "text/plain": [
       "   School_ID                                     NAME_OF_SCHOOL  \\\n",
       "0     610038                  Abraham Lincoln Elementary School   \n",
       "1     610281  Adam Clayton Powell Paideia Community Academy ...   \n",
       "2     610185                Adlai E Stevenson Elementary School   \n",
       "3     609993                    Agustin Lara Elementary Academy   \n",
       "4     610513                      Air Force Academy High School   \n",
       "\n",
       "  Elementary, Middle, or High School         Street_Address     City State  \\\n",
       "0                                 ES        615 W Kemper Pl  Chicago    IL   \n",
       "1                                 ES  7511 S South Shore Dr  Chicago    IL   \n",
       "2                                 ES     8010 S Kostner Ave  Chicago    IL   \n",
       "3                                 ES     4619 S Wolcott Ave  Chicago    IL   \n",
       "4                                 HS        3630 S Wells St  Chicago    IL   \n",
       "\n",
       "   ZIP_Code    Phone_Number  \\\n",
       "0     60614  (773) 534-5720   \n",
       "1     60649  (773) 535-6650   \n",
       "2     60652  (773) 535-2280   \n",
       "3     60609  (773) 535-4389   \n",
       "4     60609  (773) 535-1590   \n",
       "\n",
       "                                                Link  \\\n",
       "0  http://schoolreports.cps.edu/SchoolProgressRep...   \n",
       "1  http://schoolreports.cps.edu/SchoolProgressRep...   \n",
       "2  http://schoolreports.cps.edu/SchoolProgressRep...   \n",
       "3  http://schoolreports.cps.edu/SchoolProgressRep...   \n",
       "4  http://schoolreports.cps.edu/SchoolProgressRep...   \n",
       "\n",
       "                      Network_Manager                  Collaborative_Name  \\\n",
       "0        Fullerton Elementary Network  NORTH-NORTHWEST SIDE COLLABORATIVE   \n",
       "1           Skyway Elementary Network            SOUTH SIDE COLLABORATIVE   \n",
       "2           Midway Elementary Network        SOUTHWEST SIDE COLLABORATIVE   \n",
       "3         Pershing Elementary Network        SOUTHWEST SIDE COLLABORATIVE   \n",
       "4  Southwest Side High School Network        SOUTHWEST SIDE COLLABORATIVE   \n",
       "\n",
       "  Adequate_Yearly_Progress_Made_ Track_Schedule CPS_Performance_Policy_Status  \\\n",
       "0                             No       Standard              Not on Probation   \n",
       "1                             No        Track_E              Not on Probation   \n",
       "2                             No       Standard              Not on Probation   \n",
       "3                             No        Track_E              Not on Probation   \n",
       "4                            NDA       Standard              Not on Probation   \n",
       "\n",
       "  CPS_Performance_Policy_Level HEALTHY_SCHOOL_CERTIFIED  Safety_Icon  \\\n",
       "0                      Level 1                      Yes  Very Strong   \n",
       "1                      Level 1                       No      Average   \n",
       "2                      Level 2                       No       Strong   \n",
       "3                      Level 1                       No      Average   \n",
       "4              Not Enough Data                      Yes      Average   \n",
       "\n",
       "   SAFETY_SCORE Family_Involvement_Icon Family_Involvement_Score  \\\n",
       "0          99.0             Very Strong                       99   \n",
       "1          54.0                  Strong                       66   \n",
       "2          61.0                     NDA                      NDA   \n",
       "3          56.0                 Average                       44   \n",
       "4          49.0                  Strong                       60   \n",
       "\n",
       "  Environment_Icon  Environment_Score Instruction_Icon  Instruction_Score  \\\n",
       "0           Strong               74.0           Strong               66.0   \n",
       "1           Strong               74.0      Very Strong               84.0   \n",
       "2          Average               50.0             Weak               36.0   \n",
       "3          Average               45.0             Weak               37.0   \n",
       "4           Strong               60.0          Average               55.0   \n",
       "\n",
       "  Leaders_Icon Leaders_Score Teachers_Icon Teachers_Score  \\\n",
       "0         Weak            65        Strong             70   \n",
       "1         Weak            63        Strong             76   \n",
       "2         Weak           NDA           NDA            NDA   \n",
       "3         Weak            65       Average             48   \n",
       "4         Weak            45       Average             54   \n",
       "\n",
       "  Parent_Engagement_Icon Parent_Engagement_Score Parent_Environment_Icon  \\\n",
       "0                 Strong                      56                 Average   \n",
       "1                   Weak                      46                 Average   \n",
       "2                Average                      47                    Weak   \n",
       "3                Average                      53                  Strong   \n",
       "4                Average                      53                 Average   \n",
       "\n",
       "  Parent_Environment_Score AVERAGE_STUDENT_ATTENDANCE  \\\n",
       "0                       47                     96.00%   \n",
       "1                       50                     95.60%   \n",
       "2                       41                     95.70%   \n",
       "3                       58                     95.50%   \n",
       "4                       49                     93.30%   \n",
       "\n",
       "   Rate_of_Misconducts__per_100_students_ Average_Teacher_Attendance  \\\n",
       "0                                     2.0                     96.40%   \n",
       "1                                    15.7                     95.30%   \n",
       "2                                     2.3                     94.70%   \n",
       "3                                    10.4                     95.80%   \n",
       "4                                    15.6                     96.90%   \n",
       "\n",
       "  Individualized_Education_Program_Compliance_Rate Pk_2_Literacy__  \\\n",
       "0                                           95.80%            80.1   \n",
       "1                                          100.00%            62.4   \n",
       "2                                           98.30%            53.7   \n",
       "3                                          100.00%            76.9   \n",
       "4                                          100.00%             NDA   \n",
       "\n",
       "  Pk_2_Math__ Gr3_5_Grade_Level_Math__ Gr3_5_Grade_Level_Read__  \\\n",
       "0        43.3                     89.6                     84.9   \n",
       "1        51.7                     21.9                     15.1   \n",
       "2        26.6                     38.3                     34.7   \n",
       "3         NDA                       26                     24.7   \n",
       "4         NDA                      NDA                      NDA   \n",
       "\n",
       "  Gr3_5_Keep_Pace_Read__ Gr3_5_Keep_Pace_Math__ Gr6_8_Grade_Level_Math__  \\\n",
       "0                   60.7                   62.6                     81.9   \n",
       "1                     29                   42.8                     38.5   \n",
       "2                   43.7                   57.3                     48.8   \n",
       "3                   61.8                   49.7                     39.2   \n",
       "4                    NDA                    NDA                      NDA   \n",
       "\n",
       "  Gr6_8_Grade_Level_Read__ Gr6_8_Keep_Pace_Math_ Gr6_8_Keep_Pace_Read__  \\\n",
       "0                     85.2                    52                   62.4   \n",
       "1                     27.4                  44.8                   42.7   \n",
       "2                     39.2                  46.8                     44   \n",
       "3                     27.2                  69.7                   60.6   \n",
       "4                      NDA                   NDA                    NDA   \n",
       "\n",
       "  Gr_8_Explore_Math__ Gr_8_Explore_Read__  ISAT_Exceeding_Math__  \\\n",
       "0                66.3                77.9                   69.7   \n",
       "1                14.1                34.4                   16.8   \n",
       "2                 7.5                21.9                   18.3   \n",
       "3                 9.1                18.2                   11.1   \n",
       "4                 NDA                 NDA                    NaN   \n",
       "\n",
       "   ISAT_Exceeding_Reading__  ISAT_Value_Add_Math  ISAT_Value_Add_Read  \\\n",
       "0                      64.4                  0.2                  0.9   \n",
       "1                      16.5                  0.7                  1.4   \n",
       "2                      15.5                 -0.9                 -1.0   \n",
       "3                       9.6                  0.9                  2.4   \n",
       "4                       NaN                  NaN                  NaN   \n",
       "\n",
       "  ISAT_Value_Add_Color_Math ISAT_Value_Add_Color_Read  \\\n",
       "0                    Yellow                     Green   \n",
       "1                     Green                     Green   \n",
       "2                       Red                       Red   \n",
       "3                     Green                     Green   \n",
       "4                       NDA                       NDA   \n",
       "\n",
       "  Students_Taking__Algebra__ Students_Passing__Algebra__  \\\n",
       "0                       67.1                        54.5   \n",
       "1                       17.2                        27.3   \n",
       "2                        NDA                         NDA   \n",
       "3                       42.9                          25   \n",
       "4                        NDA                         NDA   \n",
       "\n",
       "  9th Grade EXPLORE (2009) 9th Grade EXPLORE (2010) 10th Grade PLAN (2009)  \\\n",
       "0                      NDA                      NDA                    NDA   \n",
       "1                      NDA                      NDA                    NDA   \n",
       "2                      NDA                      NDA                    NDA   \n",
       "3                      NDA                      NDA                    NDA   \n",
       "4                     14.6                     14.8                    NDA   \n",
       "\n",
       "  10th Grade PLAN (2010) Net_Change_EXPLORE_and_PLAN  \\\n",
       "0                    NDA                         NDA   \n",
       "1                    NDA                         NDA   \n",
       "2                    NDA                         NDA   \n",
       "3                    NDA                         NDA   \n",
       "4                     16                         1.4   \n",
       "\n",
       "  11th Grade Average ACT (2011) Net_Change_PLAN_and_ACT College_Eligibility__  \\\n",
       "0                           NDA                     NDA                   NDA   \n",
       "1                           NDA                     NDA                   NDA   \n",
       "2                           NDA                     NDA                   NDA   \n",
       "3                           NDA                     NDA                   NDA   \n",
       "4                           NDA                     NDA                   NDA   \n",
       "\n",
       "  Graduation_Rate__ College_Enrollment_Rate__  COLLEGE_ENROLLMENT  \\\n",
       "0               NDA                       NDA                 813   \n",
       "1               NDA                       NDA                 521   \n",
       "2               NDA                       NDA                1324   \n",
       "3               NDA                       NDA                 556   \n",
       "4               NDA                       NDA                 302   \n",
       "\n",
       "   General_Services_Route Freshman_on_Track_Rate__  X_COORDINATE  \\\n",
       "0                      33                      NDA   1171699.458   \n",
       "1                      46                      NDA   1196129.985   \n",
       "2                      44                      NDA   1148427.165   \n",
       "3                      42                      NDA   1164504.290   \n",
       "4                      40                     91.8   1175177.622   \n",
       "\n",
       "   Y_COORDINATE   Latitude  Longitude  COMMUNITY_AREA_NUMBER  \\\n",
       "0   1915829.428  41.924497 -87.644522                      7   \n",
       "1   1856209.466  41.760324 -87.556736                     43   \n",
       "2   1851012.215  41.747111 -87.731702                     70   \n",
       "3   1873959.199  41.809757 -87.672145                     61   \n",
       "4   1880745.126  41.828146 -87.632794                     34   \n",
       "\n",
       "  COMMUNITY_AREA_NAME  Ward  Police_District                     Location  \n",
       "0        LINCOLN PARK    43               18  (41.92449696, -87.64452163)  \n",
       "1         SOUTH SHORE     7                4  (41.76032435, -87.55673627)  \n",
       "2             ASHBURN    13                8  (41.74711093, -87.73170248)  \n",
       "3            NEW CITY    20                9    (41.8097569, -87.6721446)  \n",
       "4       ARMOUR SQUARE    11                9  (41.82814609, -87.63279369)  "
      ]
     },
     "execution_count": 20,
     "metadata": {},
     "output_type": "execute_result"
    }
   ],
   "source": [
    "df_public_schools.head()"
   ]
  },
  {
   "cell_type": "markdown",
   "metadata": {},
   "source": [
    "## On Chicago Crime Data"
   ]
  },
  {
   "cell_type": "code",
   "execution_count": 22,
   "metadata": {
    "tags": []
   },
   "outputs": [
    {
     "data": {
      "text/plain": [
       "Index(['ID', 'CASE_NUMBER', 'DATE', 'BLOCK', 'IUCR', 'PRIMARY_TYPE',\n",
       "       'DESCRIPTION', 'LOCATION_DESCRIPTION', 'ARREST', 'DOMESTIC', 'BEAT',\n",
       "       'DISTRICT', 'WARD', 'COMMUNITY_AREA_NUMBER', 'FBICODE', 'X_COORDINATE',\n",
       "       'Y_COORDINATE', 'YEAR', 'LATITUDE', 'LONGITUDE', 'LOCATION'],\n",
       "      dtype='object')"
      ]
     },
     "execution_count": 22,
     "metadata": {},
     "output_type": "execute_result"
    }
   ],
   "source": [
    "df_crime.columns"
   ]
  },
  {
   "cell_type": "code",
   "execution_count": 23,
   "metadata": {
    "tags": []
   },
   "outputs": [
    {
     "data": {
      "text/plain": [
       "ID                         int64\n",
       "CASE_NUMBER               object\n",
       "DATE                      object\n",
       "BLOCK                     object\n",
       "IUCR                      object\n",
       "PRIMARY_TYPE              object\n",
       "DESCRIPTION               object\n",
       "LOCATION_DESCRIPTION      object\n",
       "ARREST                      bool\n",
       "DOMESTIC                    bool\n",
       "BEAT                       int64\n",
       "DISTRICT                   int64\n",
       "WARD                     float64\n",
       "COMMUNITY_AREA_NUMBER    float64\n",
       "FBICODE                   object\n",
       "X_COORDINATE             float64\n",
       "Y_COORDINATE             float64\n",
       "YEAR                       int64\n",
       "LATITUDE                 float64\n",
       "LONGITUDE                float64\n",
       "LOCATION                  object\n",
       "dtype: object"
      ]
     },
     "execution_count": 23,
     "metadata": {},
     "output_type": "execute_result"
    }
   ],
   "source": [
    "df_crime.dtypes"
   ]
  },
  {
   "cell_type": "code",
   "execution_count": 24,
   "metadata": {
    "tags": []
   },
   "outputs": [
    {
     "data": {
      "text/html": [
       "<div>\n",
       "<style scoped>\n",
       "    .dataframe tbody tr th:only-of-type {\n",
       "        vertical-align: middle;\n",
       "    }\n",
       "\n",
       "    .dataframe tbody tr th {\n",
       "        vertical-align: top;\n",
       "    }\n",
       "\n",
       "    .dataframe thead th {\n",
       "        text-align: right;\n",
       "    }\n",
       "</style>\n",
       "<table border=\"1\" class=\"dataframe\">\n",
       "  <thead>\n",
       "    <tr style=\"text-align: right;\">\n",
       "      <th></th>\n",
       "      <th>ID</th>\n",
       "      <th>CASE_NUMBER</th>\n",
       "      <th>DATE</th>\n",
       "      <th>BLOCK</th>\n",
       "      <th>IUCR</th>\n",
       "      <th>PRIMARY_TYPE</th>\n",
       "      <th>DESCRIPTION</th>\n",
       "      <th>LOCATION_DESCRIPTION</th>\n",
       "      <th>ARREST</th>\n",
       "      <th>DOMESTIC</th>\n",
       "      <th>BEAT</th>\n",
       "      <th>DISTRICT</th>\n",
       "      <th>WARD</th>\n",
       "      <th>COMMUNITY_AREA_NUMBER</th>\n",
       "      <th>FBICODE</th>\n",
       "      <th>X_COORDINATE</th>\n",
       "      <th>Y_COORDINATE</th>\n",
       "      <th>YEAR</th>\n",
       "      <th>LATITUDE</th>\n",
       "      <th>LONGITUDE</th>\n",
       "      <th>LOCATION</th>\n",
       "    </tr>\n",
       "  </thead>\n",
       "  <tbody>\n",
       "    <tr>\n",
       "      <th>0</th>\n",
       "      <td>3512276</td>\n",
       "      <td>HK587712</td>\n",
       "      <td>2004-08-28</td>\n",
       "      <td>047XX S KEDZIE AVE</td>\n",
       "      <td>890</td>\n",
       "      <td>THEFT</td>\n",
       "      <td>FROM BUILDING</td>\n",
       "      <td>SMALL RETAIL STORE</td>\n",
       "      <td>False</td>\n",
       "      <td>False</td>\n",
       "      <td>911</td>\n",
       "      <td>9</td>\n",
       "      <td>14.0</td>\n",
       "      <td>58.0</td>\n",
       "      <td>6</td>\n",
       "      <td>1155838.0</td>\n",
       "      <td>1873050.0</td>\n",
       "      <td>2004</td>\n",
       "      <td>41.807440</td>\n",
       "      <td>-87.703956</td>\n",
       "      <td>(41.8074405, -87.703955849)</td>\n",
       "    </tr>\n",
       "    <tr>\n",
       "      <th>1</th>\n",
       "      <td>3406613</td>\n",
       "      <td>HK456306</td>\n",
       "      <td>2004-06-26</td>\n",
       "      <td>009XX N CENTRAL PARK AVE</td>\n",
       "      <td>820</td>\n",
       "      <td>THEFT</td>\n",
       "      <td>$500 AND UNDER</td>\n",
       "      <td>OTHER</td>\n",
       "      <td>False</td>\n",
       "      <td>False</td>\n",
       "      <td>1112</td>\n",
       "      <td>11</td>\n",
       "      <td>27.0</td>\n",
       "      <td>23.0</td>\n",
       "      <td>6</td>\n",
       "      <td>1152206.0</td>\n",
       "      <td>1906127.0</td>\n",
       "      <td>2004</td>\n",
       "      <td>41.898280</td>\n",
       "      <td>-87.716406</td>\n",
       "      <td>(41.898279962, -87.716405505)</td>\n",
       "    </tr>\n",
       "    <tr>\n",
       "      <th>2</th>\n",
       "      <td>8002131</td>\n",
       "      <td>HT233595</td>\n",
       "      <td>2011-04-04</td>\n",
       "      <td>043XX S WABASH AVE</td>\n",
       "      <td>820</td>\n",
       "      <td>THEFT</td>\n",
       "      <td>$500 AND UNDER</td>\n",
       "      <td>NURSING HOME/RETIREMENT HOME</td>\n",
       "      <td>False</td>\n",
       "      <td>False</td>\n",
       "      <td>221</td>\n",
       "      <td>2</td>\n",
       "      <td>3.0</td>\n",
       "      <td>38.0</td>\n",
       "      <td>6</td>\n",
       "      <td>1177436.0</td>\n",
       "      <td>1876313.0</td>\n",
       "      <td>2011</td>\n",
       "      <td>41.815933</td>\n",
       "      <td>-87.624642</td>\n",
       "      <td>(41.815933131, -87.624642127)</td>\n",
       "    </tr>\n",
       "    <tr>\n",
       "      <th>3</th>\n",
       "      <td>7903289</td>\n",
       "      <td>HT133522</td>\n",
       "      <td>2010-12-30</td>\n",
       "      <td>083XX S KINGSTON AVE</td>\n",
       "      <td>840</td>\n",
       "      <td>THEFT</td>\n",
       "      <td>FINANCIAL ID THEFT: OVER $300</td>\n",
       "      <td>RESIDENCE</td>\n",
       "      <td>False</td>\n",
       "      <td>False</td>\n",
       "      <td>423</td>\n",
       "      <td>4</td>\n",
       "      <td>7.0</td>\n",
       "      <td>46.0</td>\n",
       "      <td>6</td>\n",
       "      <td>1194622.0</td>\n",
       "      <td>1850125.0</td>\n",
       "      <td>2010</td>\n",
       "      <td>41.743665</td>\n",
       "      <td>-87.562463</td>\n",
       "      <td>(41.743665322, -87.562462756)</td>\n",
       "    </tr>\n",
       "    <tr>\n",
       "      <th>4</th>\n",
       "      <td>10402076</td>\n",
       "      <td>HZ138551</td>\n",
       "      <td>2016-02-02</td>\n",
       "      <td>033XX W 66TH ST</td>\n",
       "      <td>820</td>\n",
       "      <td>THEFT</td>\n",
       "      <td>$500 AND UNDER</td>\n",
       "      <td>ALLEY</td>\n",
       "      <td>False</td>\n",
       "      <td>False</td>\n",
       "      <td>831</td>\n",
       "      <td>8</td>\n",
       "      <td>15.0</td>\n",
       "      <td>66.0</td>\n",
       "      <td>6</td>\n",
       "      <td>1155240.0</td>\n",
       "      <td>1860661.0</td>\n",
       "      <td>2016</td>\n",
       "      <td>41.773455</td>\n",
       "      <td>-87.706480</td>\n",
       "      <td>(41.773455295, -87.706480471)</td>\n",
       "    </tr>\n",
       "  </tbody>\n",
       "</table>\n",
       "</div>"
      ],
      "text/plain": [
       "         ID CASE_NUMBER        DATE                     BLOCK IUCR  \\\n",
       "0   3512276    HK587712  2004-08-28        047XX S KEDZIE AVE  890   \n",
       "1   3406613    HK456306  2004-06-26  009XX N CENTRAL PARK AVE  820   \n",
       "2   8002131    HT233595  2011-04-04        043XX S WABASH AVE  820   \n",
       "3   7903289    HT133522  2010-12-30      083XX S KINGSTON AVE  840   \n",
       "4  10402076    HZ138551  2016-02-02           033XX W 66TH ST  820   \n",
       "\n",
       "  PRIMARY_TYPE                    DESCRIPTION          LOCATION_DESCRIPTION  \\\n",
       "0        THEFT                  FROM BUILDING            SMALL RETAIL STORE   \n",
       "1        THEFT                 $500 AND UNDER                         OTHER   \n",
       "2        THEFT                 $500 AND UNDER  NURSING HOME/RETIREMENT HOME   \n",
       "3        THEFT  FINANCIAL ID THEFT: OVER $300                     RESIDENCE   \n",
       "4        THEFT                 $500 AND UNDER                         ALLEY   \n",
       "\n",
       "   ARREST  DOMESTIC  BEAT  DISTRICT  WARD  COMMUNITY_AREA_NUMBER FBICODE  \\\n",
       "0   False     False   911         9  14.0                   58.0       6   \n",
       "1   False     False  1112        11  27.0                   23.0       6   \n",
       "2   False     False   221         2   3.0                   38.0       6   \n",
       "3   False     False   423         4   7.0                   46.0       6   \n",
       "4   False     False   831         8  15.0                   66.0       6   \n",
       "\n",
       "   X_COORDINATE  Y_COORDINATE  YEAR   LATITUDE  LONGITUDE  \\\n",
       "0     1155838.0     1873050.0  2004  41.807440 -87.703956   \n",
       "1     1152206.0     1906127.0  2004  41.898280 -87.716406   \n",
       "2     1177436.0     1876313.0  2011  41.815933 -87.624642   \n",
       "3     1194622.0     1850125.0  2010  41.743665 -87.562463   \n",
       "4     1155240.0     1860661.0  2016  41.773455 -87.706480   \n",
       "\n",
       "                        LOCATION  \n",
       "0    (41.8074405, -87.703955849)  \n",
       "1  (41.898279962, -87.716405505)  \n",
       "2  (41.815933131, -87.624642127)  \n",
       "3  (41.743665322, -87.562462756)  \n",
       "4  (41.773455295, -87.706480471)  "
      ]
     },
     "execution_count": 24,
     "metadata": {},
     "output_type": "execute_result"
    }
   ],
   "source": [
    "df_crime.head()"
   ]
  },
  {
   "cell_type": "markdown",
   "metadata": {},
   "source": [
    "## Converting dataframes to sql databases"
   ]
  },
  {
   "cell_type": "code",
   "execution_count": 26,
   "metadata": {
    "tags": []
   },
   "outputs": [
    {
     "data": {
      "text/plain": [
       "533"
      ]
     },
     "execution_count": 26,
     "metadata": {},
     "output_type": "execute_result"
    }
   ],
   "source": [
    "# df.to_sql(\"CHICAGO_PUBLIC_SCHOOLS_DATA\", con, if_exists='replace', index=False, method=\"multi\")\n",
    "df_census.to_sql(\"CHICAGO_CENSUS\", con, if_exists='replace', index=False, method=\"multi\")\n",
    "df_public_schools.to_sql(\"CHICAGO_PUBLIC_SCHOOLS\", con, if_exists='replace', index=False, method=\"multi\")\n",
    "df_crime.to_sql(\"CHICAGO_CRIME_DATA\", con, if_exists='replace', index=False, method=\"multi\")"
   ]
  },
  {
   "cell_type": "markdown",
   "metadata": {},
   "source": [
    "You can now proceed to the the following questions. Please note that a graded assignment will follow this lab and there will be a question on each of the problems stated below. It can be from the answer you received or the code you write for this problem. Therefore, please keep a note of both your codes as well as the response you generate.\n"
   ]
  },
  {
   "cell_type": "markdown",
   "metadata": {},
   "source": [
    "# Problems\n",
    "\n",
    "## Problem 1\n",
    "\n",
    "### Find the total number of crimes recorded in the CRIME table.\n"
   ]
  },
  {
   "cell_type": "code",
   "execution_count": 29,
   "metadata": {
    "tags": []
   },
   "outputs": [
    {
     "name": "stdout",
     "output_type": "stream",
     "text": [
      " * sqlite:///FinalDB.db\n",
      "Done.\n"
     ]
    },
    {
     "data": {
      "text/html": [
       "<table>\n",
       "    <thead>\n",
       "        <tr>\n",
       "            <th>TOTAL_NUMBER_OF_CRIME</th>\n",
       "        </tr>\n",
       "    </thead>\n",
       "    <tbody>\n",
       "        <tr>\n",
       "            <td>533</td>\n",
       "        </tr>\n",
       "    </tbody>\n",
       "</table>"
      ],
      "text/plain": [
       "[(533,)]"
      ]
     },
     "execution_count": 29,
     "metadata": {},
     "output_type": "execute_result"
    }
   ],
   "source": [
    "%%sql \n",
    "SELECT count(*) AS TOTAL_NUMBER_OF_CRIME\n",
    "FROM CHICAGO_CRIME_DATA"
   ]
  },
  {
   "cell_type": "markdown",
   "metadata": {},
   "source": [
    "## Problem 2\n",
    "\n",
    "### List community area names and numbers with per capita income less than 11000.\n"
   ]
  },
  {
   "cell_type": "code",
   "execution_count": 31,
   "metadata": {
    "tags": []
   },
   "outputs": [
    {
     "name": "stdout",
     "output_type": "stream",
     "text": [
      " * sqlite:///FinalDB.db\n",
      "Done.\n"
     ]
    },
    {
     "data": {
      "text/html": [
       "<table>\n",
       "    <thead>\n",
       "        <tr>\n",
       "            <th>COMMUNITY_AREA_NUMBER</th>\n",
       "            <th>COMMUNITY_AREA_NAME</th>\n",
       "            <th>PER_CAPITA_INCOME</th>\n",
       "        </tr>\n",
       "    </thead>\n",
       "    <tbody>\n",
       "        <tr>\n",
       "            <td>26.0</td>\n",
       "            <td>West Garfield Park</td>\n",
       "            <td>10934</td>\n",
       "        </tr>\n",
       "        <tr>\n",
       "            <td>30.0</td>\n",
       "            <td>South Lawndale</td>\n",
       "            <td>10402</td>\n",
       "        </tr>\n",
       "        <tr>\n",
       "            <td>37.0</td>\n",
       "            <td>Fuller Park</td>\n",
       "            <td>10432</td>\n",
       "        </tr>\n",
       "        <tr>\n",
       "            <td>54.0</td>\n",
       "            <td>Riverdale</td>\n",
       "            <td>8201</td>\n",
       "        </tr>\n",
       "    </tbody>\n",
       "</table>"
      ],
      "text/plain": [
       "[(26.0, 'West Garfield Park', 10934),\n",
       " (30.0, 'South Lawndale', 10402),\n",
       " (37.0, 'Fuller Park', 10432),\n",
       " (54.0, 'Riverdale', 8201)]"
      ]
     },
     "execution_count": 31,
     "metadata": {},
     "output_type": "execute_result"
    }
   ],
   "source": [
    "%%sql \n",
    "SELECT COMMUNITY_AREA_NUMBER, COMMUNITY_AREA_NAME, PER_CAPITA_INCOME\n",
    "FROM CHICAGO_CENSUS\n",
    "WHERE PER_CAPITA_INCOME < 11000"
   ]
  },
  {
   "cell_type": "markdown",
   "metadata": {},
   "source": [
    "## Problem 3\n",
    "\n",
    "### List all case numbers for crimes involving minors?(children are not considered minors for the purposes of crime analysis) \n"
   ]
  },
  {
   "cell_type": "code",
   "execution_count": 33,
   "metadata": {
    "tags": []
   },
   "outputs": [
    {
     "name": "stdout",
     "output_type": "stream",
     "text": [
      " * sqlite:///FinalDB.db\n",
      "Done.\n"
     ]
    },
    {
     "data": {
      "text/html": [
       "<table>\n",
       "    <thead>\n",
       "        <tr>\n",
       "            <th>CASE_NUMBER</th>\n",
       "        </tr>\n",
       "    </thead>\n",
       "    <tbody>\n",
       "        <tr>\n",
       "            <td>HL266884</td>\n",
       "        </tr>\n",
       "        <tr>\n",
       "            <td>HK238408</td>\n",
       "        </tr>\n",
       "    </tbody>\n",
       "</table>"
      ],
      "text/plain": [
       "[('HL266884',), ('HK238408',)]"
      ]
     },
     "execution_count": 33,
     "metadata": {},
     "output_type": "execute_result"
    }
   ],
   "source": [
    "%%sql\n",
    "SELECT CASE_NUMBER\n",
    "FROM CHICAGO_CRIME_DATA\n",
    "WHERE DESCRIPTION like \"%MINOR%\""
   ]
  },
  {
   "cell_type": "markdown",
   "metadata": {},
   "source": [
    "## Problem 4\n",
    "\n",
    "### List all kidnapping crimes involving a child?\n"
   ]
  },
  {
   "cell_type": "code",
   "execution_count": 35,
   "metadata": {
    "tags": []
   },
   "outputs": [
    {
     "name": "stdout",
     "output_type": "stream",
     "text": [
      " * sqlite:///FinalDB.db\n",
      "Done.\n"
     ]
    },
    {
     "data": {
      "text/html": [
       "<table>\n",
       "    <thead>\n",
       "        <tr>\n",
       "            <th>ID</th>\n",
       "            <th>CASE_NUMBER</th>\n",
       "            <th>DATE</th>\n",
       "            <th>BLOCK</th>\n",
       "            <th>IUCR</th>\n",
       "            <th>PRIMARY_TYPE</th>\n",
       "            <th>DESCRIPTION</th>\n",
       "            <th>LOCATION_DESCRIPTION</th>\n",
       "            <th>ARREST</th>\n",
       "            <th>DOMESTIC</th>\n",
       "            <th>BEAT</th>\n",
       "            <th>DISTRICT</th>\n",
       "            <th>WARD</th>\n",
       "            <th>COMMUNITY_AREA_NUMBER</th>\n",
       "            <th>FBICODE</th>\n",
       "            <th>X_COORDINATE</th>\n",
       "            <th>Y_COORDINATE</th>\n",
       "            <th>YEAR</th>\n",
       "            <th>LATITUDE</th>\n",
       "            <th>LONGITUDE</th>\n",
       "            <th>LOCATION</th>\n",
       "        </tr>\n",
       "    </thead>\n",
       "    <tbody>\n",
       "        <tr>\n",
       "            <td>5276766</td>\n",
       "            <td>HN144152</td>\n",
       "            <td>2007-01-26</td>\n",
       "            <td>050XX W VAN BUREN ST</td>\n",
       "            <td>1792</td>\n",
       "            <td>KIDNAPPING</td>\n",
       "            <td>CHILD ABDUCTION/STRANGER</td>\n",
       "            <td>STREET</td>\n",
       "            <td>0</td>\n",
       "            <td>0</td>\n",
       "            <td>1533</td>\n",
       "            <td>15</td>\n",
       "            <td>29.0</td>\n",
       "            <td>25.0</td>\n",
       "            <td>20</td>\n",
       "            <td>1143050.0</td>\n",
       "            <td>1897546.0</td>\n",
       "            <td>2007</td>\n",
       "            <td>41.87490841</td>\n",
       "            <td>-87.75024931</td>\n",
       "            <td>(41.874908413, -87.750249307)</td>\n",
       "        </tr>\n",
       "    </tbody>\n",
       "</table>"
      ],
      "text/plain": [
       "[(5276766, 'HN144152', '2007-01-26', '050XX W VAN BUREN ST', '1792', 'KIDNAPPING', 'CHILD ABDUCTION/STRANGER', 'STREET', 0, 0, 1533, 15, 29.0, 25.0, '20', 1143050.0, 1897546.0, 2007, 41.87490841, -87.75024931, '(41.874908413, -87.750249307)')]"
      ]
     },
     "execution_count": 35,
     "metadata": {},
     "output_type": "execute_result"
    }
   ],
   "source": [
    "%%sql\n",
    "SELECT *\n",
    "FROM CHICAGO_CRIME_DATA\n",
    "WHERE PRIMARY_TYPE = \"KIDNAPPING\" AND DESCRIPTION like \"%CHILD%\""
   ]
  },
  {
   "cell_type": "markdown",
   "metadata": {},
   "source": [
    "## Problem 5\n",
    "\n",
    "### List the kind of crimes that were recorded at schools. (No repetitions)\n"
   ]
  },
  {
   "cell_type": "code",
   "execution_count": 37,
   "metadata": {
    "tags": []
   },
   "outputs": [
    {
     "name": "stdout",
     "output_type": "stream",
     "text": [
      " * sqlite:///FinalDB.db\n",
      "Done.\n"
     ]
    },
    {
     "data": {
      "text/html": [
       "<table>\n",
       "    <thead>\n",
       "        <tr>\n",
       "            <th>CRIMES_RECORDED_AT_SCHOOLS</th>\n",
       "        </tr>\n",
       "    </thead>\n",
       "    <tbody>\n",
       "        <tr>\n",
       "            <td>BATTERY</td>\n",
       "        </tr>\n",
       "        <tr>\n",
       "            <td>CRIMINAL DAMAGE</td>\n",
       "        </tr>\n",
       "        <tr>\n",
       "            <td>NARCOTICS</td>\n",
       "        </tr>\n",
       "        <tr>\n",
       "            <td>ASSAULT</td>\n",
       "        </tr>\n",
       "        <tr>\n",
       "            <td>CRIMINAL TRESPASS</td>\n",
       "        </tr>\n",
       "        <tr>\n",
       "            <td>PUBLIC PEACE VIOLATION</td>\n",
       "        </tr>\n",
       "    </tbody>\n",
       "</table>"
      ],
      "text/plain": [
       "[('BATTERY',),\n",
       " ('CRIMINAL DAMAGE',),\n",
       " ('NARCOTICS',),\n",
       " ('ASSAULT',),\n",
       " ('CRIMINAL TRESPASS',),\n",
       " ('PUBLIC PEACE VIOLATION',)]"
      ]
     },
     "execution_count": 37,
     "metadata": {},
     "output_type": "execute_result"
    }
   ],
   "source": [
    "%%sql \n",
    "SELECT DISTINCT(PRIMARY_TYPE) AS CRIMES_RECORDED_AT_SCHOOLS\n",
    "FROM CHICAGO_CRIME_DATA\n",
    "WHERE LOCATION_DESCRIPTION like \"%SCHOOL%\""
   ]
  },
  {
   "cell_type": "markdown",
   "metadata": {},
   "source": [
    "## Problem 6\n",
    "\n",
    "### List the type of schools along with the average safety score for each type.\n"
   ]
  },
  {
   "cell_type": "code",
   "execution_count": 39,
   "metadata": {
    "tags": []
   },
   "outputs": [
    {
     "name": "stdout",
     "output_type": "stream",
     "text": [
      " * sqlite:///FinalDB.db\n",
      "Done.\n"
     ]
    },
    {
     "data": {
      "text/html": [
       "<table>\n",
       "    <thead>\n",
       "        <tr>\n",
       "            <th>Elementary, Middle, or High School</th>\n",
       "            <th>AVE_SAFETY_SCORE</th>\n",
       "        </tr>\n",
       "    </thead>\n",
       "    <tbody>\n",
       "        <tr>\n",
       "            <td>ES</td>\n",
       "            <td>49.52038369304557</td>\n",
       "        </tr>\n",
       "        <tr>\n",
       "            <td>HS</td>\n",
       "            <td>49.62352941176471</td>\n",
       "        </tr>\n",
       "        <tr>\n",
       "            <td>MS</td>\n",
       "            <td>48.0</td>\n",
       "        </tr>\n",
       "    </tbody>\n",
       "</table>"
      ],
      "text/plain": [
       "[('ES', 49.52038369304557), ('HS', 49.62352941176471), ('MS', 48.0)]"
      ]
     },
     "execution_count": 39,
     "metadata": {},
     "output_type": "execute_result"
    }
   ],
   "source": [
    "%%sql\n",
    "SELECT \"Elementary, Middle, or High School\", AVG(SAFETY_SCORE) as AVE_SAFETY_SCORE\n",
    "FROM CHICAGO_PUBLIC_SCHOOLS\n",
    "GROUP BY \"Elementary, Middle, or High School\""
   ]
  },
  {
   "cell_type": "markdown",
   "metadata": {},
   "source": [
    "## Problem 7\n",
    "\n",
    "### List 5 community areas with highest % of households below poverty line\n"
   ]
  },
  {
   "cell_type": "code",
   "execution_count": 41,
   "metadata": {
    "tags": []
   },
   "outputs": [
    {
     "name": "stdout",
     "output_type": "stream",
     "text": [
      " * sqlite:///FinalDB.db\n",
      "Done.\n"
     ]
    },
    {
     "data": {
      "text/html": [
       "<table>\n",
       "    <thead>\n",
       "        <tr>\n",
       "            <th>COMMUNITY_AREA_NUMBER</th>\n",
       "            <th>COMMUNITY_AREA_NAME</th>\n",
       "            <th>PERCENT_HOUSEHOLDS_BELOW_POVERTY</th>\n",
       "        </tr>\n",
       "    </thead>\n",
       "    <tbody>\n",
       "        <tr>\n",
       "            <td>54.0</td>\n",
       "            <td>Riverdale</td>\n",
       "            <td>56.5</td>\n",
       "        </tr>\n",
       "        <tr>\n",
       "            <td>37.0</td>\n",
       "            <td>Fuller Park</td>\n",
       "            <td>51.2</td>\n",
       "        </tr>\n",
       "        <tr>\n",
       "            <td>68.0</td>\n",
       "            <td>Englewood</td>\n",
       "            <td>46.6</td>\n",
       "        </tr>\n",
       "        <tr>\n",
       "            <td>29.0</td>\n",
       "            <td>North Lawndale</td>\n",
       "            <td>43.1</td>\n",
       "        </tr>\n",
       "        <tr>\n",
       "            <td>27.0</td>\n",
       "            <td>East Garfield Park</td>\n",
       "            <td>42.4</td>\n",
       "        </tr>\n",
       "    </tbody>\n",
       "</table>"
      ],
      "text/plain": [
       "[(54.0, 'Riverdale', 56.5),\n",
       " (37.0, 'Fuller Park', 51.2),\n",
       " (68.0, 'Englewood', 46.6),\n",
       " (29.0, 'North Lawndale', 43.1),\n",
       " (27.0, 'East Garfield Park', 42.4)]"
      ]
     },
     "execution_count": 41,
     "metadata": {},
     "output_type": "execute_result"
    }
   ],
   "source": [
    "%%sql \n",
    "SELECT COMMUNITY_AREA_NUMBER, COMMUNITY_AREA_NAME, PERCENT_HOUSEHOLDS_BELOW_POVERTY\n",
    "FROM CHICAGO_CENSUS\n",
    "ORDER BY PERCENT_HOUSEHOLDS_BELOW_POVERTY DESC\n",
    "LIMIT 5"
   ]
  },
  {
   "cell_type": "markdown",
   "metadata": {},
   "source": [
    "## Problem 8\n",
    "\n",
    "### Which community area is most crime prone? Display the coumminty area number only.\n"
   ]
  },
  {
   "cell_type": "code",
   "execution_count": 47,
   "metadata": {},
   "outputs": [
    {
     "name": "stdout",
     "output_type": "stream",
     "text": [
      " * sqlite:///FinalDB.db\n",
      "Done.\n"
     ]
    },
    {
     "data": {
      "text/html": [
       "<table>\n",
       "    <thead>\n",
       "        <tr>\n",
       "            <th>COMMUNITY_AREA_NUMBER</th>\n",
       "        </tr>\n",
       "    </thead>\n",
       "    <tbody>\n",
       "        <tr>\n",
       "            <td>25.0</td>\n",
       "        </tr>\n",
       "    </tbody>\n",
       "</table>"
      ],
      "text/plain": [
       "[(25.0,)]"
      ]
     },
     "execution_count": 47,
     "metadata": {},
     "output_type": "execute_result"
    }
   ],
   "source": [
    "%%sql\n",
    "SELECT COMMUNITY_AREA_NUMBER\n",
    "FROM CHICAGO_CRIME_DATA\n",
    "GROUP BY COMMUNITY_AREA_NUMBER\n",
    "ORDER BY COUNT(COMMUNITY_AREA_NUMBER) DESC\n",
    "LIMIT 1;"
   ]
  },
  {
   "cell_type": "code",
   "execution_count": 49,
   "metadata": {
    "tags": []
   },
   "outputs": [
    {
     "name": "stdout",
     "output_type": "stream",
     "text": [
      " * sqlite:///FinalDB.db\n",
      "Done.\n"
     ]
    },
    {
     "data": {
      "text/html": [
       "<table>\n",
       "    <thead>\n",
       "        <tr>\n",
       "            <th>COMMUNITY_AREA_NUMBER</th>\n",
       "        </tr>\n",
       "    </thead>\n",
       "    <tbody>\n",
       "        <tr>\n",
       "            <td>25.0</td>\n",
       "        </tr>\n",
       "    </tbody>\n",
       "</table>"
      ],
      "text/plain": [
       "[(25.0,)]"
      ]
     },
     "execution_count": 49,
     "metadata": {},
     "output_type": "execute_result"
    }
   ],
   "source": [
    "%%sql \n",
    "SELECT COMMUNITY_AREA_NUMBER\n",
    "FROM CHICAGO_CRIME_DATA\n",
    "GROUP BY COMMUNITY_AREA_NUMBER\n",
    "ORDER BY COUNT(COMMUNITY_AREA_NUMBER) DESC\n",
    "LIMIT 1;"
   ]
  },
  {
   "cell_type": "markdown",
   "metadata": {},
   "source": [
    "\n",
    "Double-click **here** for a hint\n",
    "\n",
    "<!--\n",
    "Query for the 'community area number' that has most number of incidents\n",
    "-->\n"
   ]
  },
  {
   "cell_type": "markdown",
   "metadata": {},
   "source": [
    "## Problem 9\n",
    "\n",
    "### Use a sub-query to find the name of the community area with highest hardship index\n"
   ]
  },
  {
   "cell_type": "code",
   "execution_count": 53,
   "metadata": {
    "tags": []
   },
   "outputs": [
    {
     "name": "stdout",
     "output_type": "stream",
     "text": [
      " * sqlite:///FinalDB.db\n",
      "Done.\n"
     ]
    },
    {
     "data": {
      "text/html": [
       "<table>\n",
       "    <thead>\n",
       "        <tr>\n",
       "            <th>COMMUNITY_AREA_NAME</th>\n",
       "        </tr>\n",
       "    </thead>\n",
       "    <tbody>\n",
       "        <tr>\n",
       "            <td>Riverdale</td>\n",
       "        </tr>\n",
       "    </tbody>\n",
       "</table>"
      ],
      "text/plain": [
       "[('Riverdale',)]"
      ]
     },
     "execution_count": 53,
     "metadata": {},
     "output_type": "execute_result"
    }
   ],
   "source": [
    "%%sql\n",
    "SELECT COMMUNITY_AREA_NAME\n",
    "FROM CHICAGO_CENSUS\n",
    "WHERE HARDSHIP_INDEX = (SELECT MAX(HARDSHIP_INDEX) FROM CHICAGO_CENSUS);"
   ]
  },
  {
   "cell_type": "markdown",
   "metadata": {},
   "source": [
    "## Problem 10\n",
    "\n",
    "### Use a sub-query to determine the Community Area Name with most number of crimes?\n"
   ]
  },
  {
   "cell_type": "code",
   "execution_count": 56,
   "metadata": {
    "tags": []
   },
   "outputs": [
    {
     "name": "stdout",
     "output_type": "stream",
     "text": [
      " * sqlite:///FinalDB.db\n",
      "Done.\n"
     ]
    },
    {
     "data": {
      "text/html": [
       "<table>\n",
       "    <thead>\n",
       "        <tr>\n",
       "            <th>COMMUNITY_AREA_NAME</th>\n",
       "        </tr>\n",
       "    </thead>\n",
       "    <tbody>\n",
       "        <tr>\n",
       "            <td>Austin</td>\n",
       "        </tr>\n",
       "    </tbody>\n",
       "</table>"
      ],
      "text/plain": [
       "[('Austin',)]"
      ]
     },
     "execution_count": 56,
     "metadata": {},
     "output_type": "execute_result"
    }
   ],
   "source": [
    "%%sql\n",
    "SELECT COMMUNITY_AREA_NAME \n",
    "FROM CHICAGO_CENSUS\n",
    "WHERE COMMUNITY_AREA_NUMBER = (SELECT COMMUNITY_AREA_NUMBER\n",
    "                                 FROM CHICAGO_CRIME_DATA\n",
    "                                 GROUP BY COMMUNITY_AREA_NUMBER\n",
    "                                 ORDER BY COUNT(COMMUNITY_AREA_NUMBER) DESC\n",
    "                                 LIMIT 1)"
   ]
  },
  {
   "cell_type": "code",
   "execution_count": null,
   "metadata": {},
   "outputs": [],
   "source": []
  }
 ],
 "metadata": {
  "kernelspec": {
   "display_name": "Python (mldev_env)",
   "language": "python",
   "name": "mldev_env"
  },
  "language_info": {
   "codemirror_mode": {
    "name": "ipython",
    "version": 3
   },
   "file_extension": ".py",
   "mimetype": "text/x-python",
   "name": "python",
   "nbconvert_exporter": "python",
   "pygments_lexer": "ipython3",
   "version": "3.11.9"
  }
 },
 "nbformat": 4,
 "nbformat_minor": 4
}
